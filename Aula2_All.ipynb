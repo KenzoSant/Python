{
  "nbformat": 4,
  "nbformat_minor": 0,
  "metadata": {
    "colab": {
      "provenance": []
    },
    "kernelspec": {
      "name": "python3",
      "display_name": "Python 3"
    },
    "language_info": {
      "name": "python"
    }
  },
  "cells": [
    {
      "cell_type": "markdown",
      "source": [
        "## Herança"
      ],
      "metadata": {
        "id": "aU13U1njAn6T"
      }
    },
    {
      "cell_type": "code",
      "execution_count": null,
      "metadata": {
        "id": "14PJtoGyAh6N"
      },
      "outputs": [],
      "source": [
        "class Porta:\n",
        "    # atributo de classe\n",
        "    cor = 'Amarelo'\n",
        "\n",
        "    # construtor\n",
        "    def __init__(self, status, id):\n",
        "        # atributos de instância\n",
        "        self.status = status\n",
        "        self.id = id\n",
        "\n",
        "    def abrir(self):\n",
        "        self.status = 'aberta'\n",
        "\n",
        "    def fechar(self):\n",
        "        self.status = 'fechada'\n",
        "\n",
        "    @classmethod\n",
        "    def pintar(cls, cor):\n",
        "        cls.cor = cor"
      ]
    },
    {
      "cell_type": "code",
      "source": [
        "class PortaSeguranca(Porta):\n",
        "    cor = 'Cinza'\n",
        "    locked = True\n",
        "\n",
        "    def abrir(self):\n",
        "        if not self.locked:\n",
        "            self.status = 'Aberta'"
      ],
      "metadata": {
        "id": "LNSedUIvB-qE"
      },
      "execution_count": null,
      "outputs": []
    },
    {
      "cell_type": "code",
      "source": [
        "p1 = Porta('fechada', 100)\n",
        "p2 = PortaSeguranca('fechada', 101)"
      ],
      "metadata": {
        "id": "_zNZCTIpDVZP"
      },
      "execution_count": null,
      "outputs": []
    },
    {
      "cell_type": "code",
      "source": [
        "print(p1.__dict__)\n",
        "print(p2.__dict__)"
      ],
      "metadata": {
        "colab": {
          "base_uri": "https://localhost:8080/"
        },
        "id": "VQRFrqwNDeBc",
        "outputId": "89a7e952-f7e7-44fc-b72e-d6e8d7ae1e4c"
      },
      "execution_count": null,
      "outputs": [
        {
          "output_type": "stream",
          "name": "stdout",
          "text": [
            "{'status': 'fechada', 'id': 100}\n",
            "{'status': 'fechada', 'id': 101}\n"
          ]
        }
      ]
    },
    {
      "cell_type": "code",
      "source": [
        "p1.abrir()\n",
        "p2.abrir()"
      ],
      "metadata": {
        "id": "z-0aEwsQDkzb"
      },
      "execution_count": null,
      "outputs": []
    },
    {
      "cell_type": "code",
      "source": [
        "print(p1.__dict__)\n",
        "print(p2.__dict__)"
      ],
      "metadata": {
        "colab": {
          "base_uri": "https://localhost:8080/"
        },
        "id": "bShC8u4fDqf7",
        "outputId": "d9f2e6ef-b3c6-45f0-ee92-991ab057a1f2"
      },
      "execution_count": null,
      "outputs": [
        {
          "output_type": "stream",
          "name": "stdout",
          "text": [
            "{'status': 'aberta', 'id': 100}\n",
            "{'status': 'fechada', 'id': 101}\n"
          ]
        }
      ]
    },
    {
      "cell_type": "markdown",
      "source": [
        "Resolvendo 2 problemas:\n",
        "\n",
        "\n",
        "1.   Deixar o atributo `locked` como um atributo de instância;\n",
        "2.   Não copiar a implementação do código para abrir uma porta, mas sim chamar o método `abrir()` da super classe.\n",
        "\n"
      ],
      "metadata": {
        "id": "ofQOrCX8FBef"
      }
    },
    {
      "cell_type": "code",
      "source": [
        "class PortaSeguranca(Porta):\n",
        "    cor = 'Cinza'\n",
        "\n",
        "    def __init__(self, id):\n",
        "        super().__init__('fechada', id)\n",
        "        self.locked = True\n",
        "\n",
        "    def abrir(self):\n",
        "        if not self.locked:\n",
        "            super().abrir()"
      ],
      "metadata": {
        "id": "uu1_rAVYDsor"
      },
      "execution_count": null,
      "outputs": []
    },
    {
      "cell_type": "code",
      "source": [
        "p3 = PortaSeguranca(102)"
      ],
      "metadata": {
        "id": "K9aLtg4gHSml"
      },
      "execution_count": null,
      "outputs": []
    },
    {
      "cell_type": "code",
      "source": [
        "print(p3.__dict__)\n",
        "p3.abrir()\n",
        "print(p3.__dict__)\n",
        "p3.locked = False\n",
        "p3.abrir()\n",
        "print(p3.__dict__)"
      ],
      "metadata": {
        "colab": {
          "base_uri": "https://localhost:8080/"
        },
        "id": "pKvF5r9KHlyO",
        "outputId": "62a3d97e-3229-4769-b674-89de5a3c1e5f"
      },
      "execution_count": null,
      "outputs": [
        {
          "output_type": "stream",
          "name": "stdout",
          "text": [
            "{'status': 'fechada', 'id': 102, 'locked': True}\n",
            "{'status': 'fechada', 'id': 102, 'locked': True}\n",
            "{'status': 'aberta', 'id': 102, 'locked': False}\n"
          ]
        }
      ]
    },
    {
      "cell_type": "markdown",
      "source": [
        "### Exercício\n",
        "\n",
        "Crie uma classe chamda `Politico` com os atributos `nome`, `partido`, `estado` e `funcao`.\n",
        "\n",
        "Crie as subclasses: `Prefeito` (atributo `municipio`) e `Vereador` (atributo `municipio`).\n",
        "\n",
        "Todas as classes devem ter o método `Apresentacao` e alguns *Gets* e *Sets*."
      ],
      "metadata": {
        "id": "tUQVwtvBIh8G"
      }
    },
    {
      "cell_type": "code",
      "source": [
        "class Politico:\n",
        "    def __init__(self, nome=None, partido=None, estado=None, funcao=None):\n",
        "        self.__nome = nome\n",
        "        self.__partido = partido\n",
        "        self.__estado = estado\n",
        "        self.__funcao = funcao\n",
        "\n",
        "    def get_nome(self):\n",
        "        return str(self.__nome)\n",
        "\n",
        "    def set_nome(self, nome):\n",
        "        if type(nome) == str:\n",
        "            self.__nome = nome\n",
        "        else:\n",
        "            print('Nome inválido. Deve ser uma string.')\n",
        "\n",
        "    def apresentacao(self):\n",
        "        print('Meu nome é ' + self.get_nome())"
      ],
      "metadata": {
        "id": "76fKnGAhIkBA"
      },
      "execution_count": null,
      "outputs": []
    },
    {
      "cell_type": "code",
      "source": [
        "po1 = Politico()\n",
        "po1.set_nome('123 de Oliveira 4')\n",
        "po1.apresentacao()"
      ],
      "metadata": {
        "colab": {
          "base_uri": "https://localhost:8080/"
        },
        "id": "Qlg-lBcLjpuw",
        "outputId": "0e7fdd90-0971-4b12-d498-aeabc2e6a657"
      },
      "execution_count": null,
      "outputs": [
        {
          "output_type": "stream",
          "name": "stdout",
          "text": [
            "Meu nome é 123 de Oliveira 4\n"
          ]
        }
      ]
    },
    {
      "cell_type": "code",
      "source": [
        "po1.__dict__"
      ],
      "metadata": {
        "colab": {
          "base_uri": "https://localhost:8080/"
        },
        "id": "o3DBKJL7jyR4",
        "outputId": "1ccfe040-7ec4-4405-87b8-5669bd369dba"
      },
      "execution_count": null,
      "outputs": [
        {
          "output_type": "execute_result",
          "data": {
            "text/plain": [
              "{'_Politico__nome': 'Joana',\n",
              " '_Politico__partido': None,\n",
              " '_Politico__estado': None,\n",
              " '_Politico__funcao': None}"
            ]
          },
          "metadata": {},
          "execution_count": 16
        }
      ]
    },
    {
      "cell_type": "code",
      "source": [
        "class Prefeito(Politico):\n",
        "    def __init__(self, nome=None, partido=None, estado=None, funcao=None, municipio=None):\n",
        "        super().__init__(nome, partido, estado, funcao)\n",
        "        self.__municipio = municipio\n",
        "\n",
        "    def get_municipio(self):\n",
        "        return str(self.__municipio)\n",
        "\n",
        "    def set_municipio(self, municipio):\n",
        "        if type(municipio) == str:\n",
        "            self.__municipio = municipio\n",
        "\n",
        "    def apresentacao(self):\n",
        "        super().apresentacao()\n",
        "        print('Sou prefeito(a) de ' + self.get_municipio())"
      ],
      "metadata": {
        "id": "_t692AfJou7-"
      },
      "execution_count": null,
      "outputs": []
    },
    {
      "cell_type": "code",
      "source": [
        "po2 = Prefeito()\n",
        "po2.set_nome('Dona Maria')\n",
        "po2.set_municipio('Trabiju')\n",
        "po2.apresentacao()"
      ],
      "metadata": {
        "colab": {
          "base_uri": "https://localhost:8080/"
        },
        "id": "7lZmOWvYqvKz",
        "outputId": "4828a4b4-a115-4b79-b66b-61193cf05737"
      },
      "execution_count": null,
      "outputs": [
        {
          "output_type": "stream",
          "name": "stdout",
          "text": [
            "Meu nome é Dona Maria\n",
            "Sou prefeito(a) de Trabiju\n"
          ]
        }
      ]
    },
    {
      "cell_type": "code",
      "source": [
        "po2.__dict__"
      ],
      "metadata": {
        "colab": {
          "base_uri": "https://localhost:8080/"
        },
        "id": "d645BzoZq7aS",
        "outputId": "1c20a88b-a148-48e6-8e85-fbf88e46b844"
      },
      "execution_count": null,
      "outputs": [
        {
          "output_type": "execute_result",
          "data": {
            "text/plain": [
              "{'_Politico__nome': 'Dona Maria',\n",
              " '_Politico__partido': None,\n",
              " '_Politico__estado': None,\n",
              " '_Politico__funcao': None,\n",
              " '_Prefeito__municipio': 'Trabiju'}"
            ]
          },
          "metadata": {},
          "execution_count": 24
        }
      ]
    },
    {
      "cell_type": "markdown",
      "source": [
        "### Exercício\n",
        "\n",
        "Crie uma classe chamada `Pessoa` com os atributos `nome`, `idade` e `sexo`.\n",
        "Implemente os métodos `Cadastrar` para inclusão de pessoas em uma lista e `Mostrar` para exibir os dados cadastrados na tela."
      ],
      "metadata": {
        "id": "Epe8MnWCs0Sd"
      }
    },
    {
      "cell_type": "code",
      "source": [
        "class Pessoa:\n",
        "\n",
        "    def __init__(self):\n",
        "        self.__nome = None\n",
        "        self.__idade = -1\n",
        "        self.__sexo = None\n",
        "\n",
        "    def cadastrar(self):\n",
        "        self.__nome = input('Digite o nome: ')\n",
        "        while self.__idade < 0:\n",
        "            try:\n",
        "                self.__idade = int(input('Digite a idade: '))\n",
        "            except ValueError:\n",
        "                print('Idade inválida! Digite novamente.')\n",
        "        self.__sexo = input('Digite o sexo (M/F/-): ').upper()\n",
        "\n",
        "    def mostrar(self):\n",
        "        print(str(self.__nome) + ' ' + str(self.__idade) + ' ' + str(self.__sexo))"
      ],
      "metadata": {
        "id": "-ppg8EJJsDgL"
      },
      "execution_count": null,
      "outputs": []
    },
    {
      "cell_type": "code",
      "source": [
        "pessoas = []"
      ],
      "metadata": {
        "id": "Z4JR7pHJBdYr"
      },
      "execution_count": null,
      "outputs": []
    },
    {
      "cell_type": "code",
      "source": [
        "for i in range(3):\n",
        "    p = Pessoa()\n",
        "    p.cadastrar()\n",
        "    pessoas.append(p)"
      ],
      "metadata": {
        "colab": {
          "base_uri": "https://localhost:8080/"
        },
        "id": "-hK97VU_Bl48",
        "outputId": "4493be7d-04ab-4696-e639-bc9c7bd12241"
      },
      "execution_count": null,
      "outputs": [
        {
          "name": "stdout",
          "output_type": "stream",
          "text": [
            "Digite o nome: Maria\n",
            "Digite a idade: -10\n",
            "Digite a idade: v\n",
            "Idade inválida! Digite novamente.\n",
            "Digite a idade: 10\n",
            "Digite o sexo (M/F/-): f\n",
            "Digite o nome: Marcos\n",
            "Digite a idade: 25\n",
            "Digite o sexo (M/F/-): m\n",
            "Digite o nome: Helena\n",
            "Digite a idade: k]\n",
            "Idade inválida! Digite novamente.\n",
            "Digite a idade: 30\n",
            "Digite o sexo (M/F/-): f\n"
          ]
        }
      ]
    },
    {
      "cell_type": "code",
      "source": [
        "for i in range(3):\n",
        "    pessoas[i].mostrar()"
      ],
      "metadata": {
        "colab": {
          "base_uri": "https://localhost:8080/"
        },
        "id": "eGfU1jKYCXX2",
        "outputId": "63a3479e-a0eb-44ac-f4ef-6cbde9843903"
      },
      "execution_count": null,
      "outputs": [
        {
          "output_type": "stream",
          "name": "stdout",
          "text": [
            "Maria 10 F\n",
            "Marcos 25 M\n",
            "Helena 30 F\n"
          ]
        }
      ]
    },
    {
      "cell_type": "code",
      "source": [
        "for p in pessoas:\n",
        "    p.mostrar()"
      ],
      "metadata": {
        "colab": {
          "base_uri": "https://localhost:8080/"
        },
        "id": "BcFXwrtBCi8_",
        "outputId": "f7502bbd-e5f5-416a-9d8c-2045f7e07495"
      },
      "execution_count": null,
      "outputs": [
        {
          "output_type": "stream",
          "name": "stdout",
          "text": [
            "Maria 10 F\n",
            "Marcos 25 M\n",
            "Helena 30 F\n"
          ]
        }
      ]
    },
    {
      "cell_type": "code",
      "source": [],
      "metadata": {
        "id": "9b-SoWeVCsdI"
      },
      "execution_count": null,
      "outputs": []
    }
  ]
}
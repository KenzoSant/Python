{
  "nbformat": 4,
  "nbformat_minor": 0,
  "metadata": {
    "colab": {
      "provenance": [],
      "authorship_tag": "ABX9TyOTSInJmp8tmG5TjLD1fhH+"
    },
    "kernelspec": {
      "name": "python3",
      "display_name": "Python 3"
    },
    "language_info": {
      "name": "python"
    }
  },
  "cells": [
    {
      "cell_type": "code",
      "execution_count": null,
      "metadata": {
        "id": "FflXuKYp3jL0"
      },
      "outputs": [],
      "source": [
        "class A:\n",
        "  a=1"
      ]
    },
    {
      "cell_type": "code",
      "source": [
        "class B(A):\n",
        "  _c = 3\n",
        "  def __init__(self):\n",
        "    print(self.a)\n",
        "    print(self._c)\n",
        "\n",
        "a = A()\n",
        "if isinstance(a, B):\n",
        "  print('a é instancia da classe B:')\n",
        "\n",
        "b = B()\n",
        "if isinstance(b, B):\n",
        "  print('b é instancia da classe B:')\n",
        "\n",
        "c = A()\n",
        "if isinstance(c, A):\n",
        "  print('c é instancia da classe A:')\n",
        "\n",
        "d = B()\n",
        "if isinstance(d, A):\n",
        "  print('d é instancia da classe A:')"
      ],
      "metadata": {
        "colab": {
          "base_uri": "https://localhost:8080/"
        },
        "id": "2hOw65IS3q47",
        "outputId": "a8555652-3da4-43fd-99fc-631252802ea7"
      },
      "execution_count": null,
      "outputs": [
        {
          "output_type": "stream",
          "name": "stdout",
          "text": [
            "1\n",
            "3\n",
            "b é instancia da classe B:\n",
            "c é instancia da classe A:\n",
            "1\n",
            "3\n",
            "d é instancia da classe A:\n"
          ]
        }
      ]
    },
    {
      "cell_type": "code",
      "source": [
        "class Pessoa:\n",
        "    def __init__(self, rg, nome):\n",
        "        self.rg = rg\n",
        "        self.__nome = nome\n",
        "\n",
        "    def get_nome(self):\n",
        "        return str(self.__nome)\n",
        "\n",
        "    def exibeNome(self):\n",
        "        print(\"Nome:\", self.get_nome())\n",
        "        print(\"RG:\", self.rg)"
      ],
      "metadata": {
        "id": "aeWJS_Fa6-9R"
      },
      "execution_count": null,
      "outputs": []
    },
    {
      "cell_type": "code",
      "source": [
        "class Funcionario(Pessoa):\n",
        "    def __init__(self, rg, nome, salario, desconto):\n",
        "        super().__init__(rg, nome)\n",
        "        self.salario = salario\n",
        "        self.desconto = desconto\n",
        "\n",
        "    # Método para calcular o salário após desconto\n",
        "    def calculaSalario(self):\n",
        "        salario_liquido = self.salario - self.desconto\n",
        "        print(\"Nome:\", self.nome)\n",
        "        print(\"RG:\", self.rg)\n",
        "        print(\"Salário:\", self.salario)\n",
        "        print(\"Desconto:\", self.desconto)\n",
        "        print(\"Salário Líquido:\", salario_liquido)"
      ],
      "metadata": {
        "id": "twOSoZCF8GVP"
      },
      "execution_count": null,
      "outputs": []
    },
    {
      "cell_type": "code",
      "source": [
        "funcionario1 = Funcionario(\"123456789\", \"João\", 3000, 500)"
      ],
      "metadata": {
        "id": "vFB9L8Tn93nG"
      },
      "execution_count": null,
      "outputs": []
    },
    {
      "cell_type": "code",
      "source": [
        "print(funcionario1.__dict__)"
      ],
      "metadata": {
        "colab": {
          "base_uri": "https://localhost:8080/"
        },
        "id": "i4AIOWS7-o75",
        "outputId": "21ee3123-7abd-4146-98d7-abb78a0c45b9"
      },
      "execution_count": null,
      "outputs": [
        {
          "output_type": "stream",
          "name": "stdout",
          "text": [
            "{'rg': '123456789', '_Pessoa__nome': 'João', 'salario': 3000, 'desconto': 500}\n"
          ]
        }
      ]
    },
    {
      "cell_type": "code",
      "source": [
        "funcionario2 = Pessoa(\"123456\", \"Kenzo\")\n",
        "funcionario2.exibeNome()"
      ],
      "metadata": {
        "colab": {
          "base_uri": "https://localhost:8080/"
        },
        "id": "yi2CmyYE_HYa",
        "outputId": "4404bb13-d0ec-431b-a851-37eb89c676a1"
      },
      "execution_count": null,
      "outputs": [
        {
          "output_type": "stream",
          "name": "stdout",
          "text": [
            "Nome: Kenzo\n",
            "RG: 123456\n"
          ]
        }
      ]
    },
    {
      "cell_type": "code",
      "source": [
        "print(funcionario2.__dict__)"
      ],
      "metadata": {
        "colab": {
          "base_uri": "https://localhost:8080/"
        },
        "id": "-KkhZD4u_SnL",
        "outputId": "00ce9743-4bfb-41b8-e41f-f8aeb3e9c0d0"
      },
      "execution_count": null,
      "outputs": [
        {
          "output_type": "stream",
          "name": "stdout",
          "text": [
            "{'rg': '123456', '_Pessoa__nome': 'Kenzo'}\n"
          ]
        }
      ]
    }
  ]
}
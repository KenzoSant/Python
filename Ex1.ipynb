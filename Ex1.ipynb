{
  "nbformat": 4,
  "nbformat_minor": 0,
  "metadata": {
    "colab": {
      "provenance": []
    },
    "kernelspec": {
      "name": "python3",
      "display_name": "Python 3"
    },
    "language_info": {
      "name": "python"
    }
  },
  "cells": [
    {
      "cell_type": "code",
      "execution_count": null,
      "metadata": {
        "id": "g8DOoW7dpi_F"
      },
      "outputs": [],
      "source": [
        "from typing_extensions import Self\n",
        "class Carro:\n",
        "\n",
        "    # atributo de classe\n",
        "    total_carro = 0\n",
        "\n",
        "    # construtor\n",
        "    def __init__(self, cor, modelo, ano, preco):\n",
        "        # atributos de instância\n",
        "        # self = this do java\n",
        "        self.cor = cor\n",
        "        self.modelo = modelo\n",
        "        self.ano = ano\n",
        "        self.preco = preco\n",
        "        Carro.total_carro += 1\n",
        "\n",
        "    # COR\n",
        "    def get_cor(self):\n",
        "        return self.cor\n",
        "\n",
        "    def set_cor(self, cor):\n",
        "        self.cor = cor\n",
        "\n",
        "    # MODELO\n",
        "    def get_modelo(self):\n",
        "        return self.modelo\n",
        "\n",
        "    def set_modelo(self, modelo):\n",
        "        self.modelo = modelo\n",
        "\n",
        "    # ANO\n",
        "    def get_ano(self):\n",
        "        return self.ano\n",
        "\n",
        "    def set_ano(self, ano):\n",
        "        self.ano = ano\n",
        "\n",
        "    # PRECO\n",
        "    def get_preco(self):\n",
        "        return self.preco\n",
        "\n",
        "    def set_preco(self, preco):\n",
        "        self.preco = preco\n",
        "\n",
        "\n",
        "    def imprimir_carro(self):\n",
        "        print(f\"Cor:{self.cor}\")\n",
        "        print(f\"Modelo:{self.modelo}\")\n",
        "        print(f\"Ano:{self.ano}\")\n",
        "        print(f\"Preco:{self.preco}\")\n",
        "\n",
        "    @classmethod\n",
        "    def imprimir_total(cls):\n",
        "        print(f\"Total:{cls.total_carro}\")"
      ]
    },
    {
      "cell_type": "code",
      "source": [
        "c1 = Carro ('Branco','Supra-MK4',2023,20000)\n",
        "c2 = Carro ('Preto','GTR-R35', 2023 ,25000)"
      ],
      "metadata": {
        "id": "g4HLAaazs3oV"
      },
      "execution_count": null,
      "outputs": []
    },
    {
      "cell_type": "code",
      "source": [
        "c1.__dict__\n"
      ],
      "metadata": {
        "colab": {
          "base_uri": "https://localhost:8080/"
        },
        "id": "Tr9Cc_YAv16L",
        "outputId": "4222f45e-58cb-48bb-de73-2eb1893cd59d"
      },
      "execution_count": null,
      "outputs": [
        {
          "output_type": "execute_result",
          "data": {
            "text/plain": [
              "{'cor': 'Branco', 'modelo': 'Supra-MK4', 'ano': 2023, 'preco': 20000}"
            ]
          },
          "metadata": {},
          "execution_count": 15
        }
      ]
    },
    {
      "cell_type": "code",
      "source": [
        "c2.__dict__"
      ],
      "metadata": {
        "colab": {
          "base_uri": "https://localhost:8080/"
        },
        "id": "soCjb3DnnLkE",
        "outputId": "938060a1-3f10-4738-86c0-289fe762d53d"
      },
      "execution_count": null,
      "outputs": [
        {
          "output_type": "execute_result",
          "data": {
            "text/plain": [
              "{'cor': 'Preto', 'modelo': 'GTR-R35', 'ano': 2023, 'preco': 25000}"
            ]
          },
          "metadata": {},
          "execution_count": 16
        }
      ]
    },
    {
      "cell_type": "code",
      "source": [
        "c1.imprimir_carro()"
      ],
      "metadata": {
        "colab": {
          "base_uri": "https://localhost:8080/"
        },
        "id": "lqlrWA6cwCs8",
        "outputId": "e488e185-bee5-4eef-b987-9dd54852871a"
      },
      "execution_count": null,
      "outputs": [
        {
          "output_type": "stream",
          "name": "stdout",
          "text": [
            "Cor:Branco\n",
            "Modelo:Supra-MK4\n",
            "Ano:2023\n",
            "Preco:20000\n"
          ]
        }
      ]
    },
    {
      "cell_type": "code",
      "source": [
        "Carro.imprimir_total()"
      ],
      "metadata": {
        "colab": {
          "base_uri": "https://localhost:8080/"
        },
        "id": "bmKmd4Nhp9y1",
        "outputId": "82b7ea6d-7da3-4b68-b4e0-1b409e03b73d"
      },
      "execution_count": null,
      "outputs": [
        {
          "output_type": "stream",
          "name": "stdout",
          "text": [
            "Total:2\n"
          ]
        }
      ]
    }
  ]
}
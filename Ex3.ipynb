{
  "nbformat": 4,
  "nbformat_minor": 0,
  "metadata": {
    "colab": {
      "provenance": [],
      "authorship_tag": "ABX9TyMJTwKa8roRyKrZYhlv3Hfx"
    },
    "kernelspec": {
      "name": "python3",
      "display_name": "Python 3"
    },
    "language_info": {
      "name": "python"
    }
  },
  "cells": [
    {
      "cell_type": "code",
      "execution_count": null,
      "metadata": {
        "id": "piXSB1tmtuhL"
      },
      "outputs": [],
      "source": [
        "class Pessoa:\n",
        "    # Lista para armazenar todas as instâncias de Pessoa criadas\n",
        "    lista_pessoas = []\n",
        "\n",
        "    # Construtor\n",
        "    def __init__(self, nome=None, idade=None, sexo=None):\n",
        "        self.__nome = nome\n",
        "        self.__idade = idade\n",
        "        self.__sexo = sexo\n",
        "        Pessoa.lista_pessoas.append(self)  # Adiciona a instância atual à lista de pessoas\n",
        "\n",
        "    # Getters e setters para nome, idade e sexo\n",
        "    def get_nome(self):\n",
        "        return self.__nome\n",
        "\n",
        "    def set_nome(self, nome):\n",
        "        if type(nome) == str:\n",
        "            self.__nome = nome\n",
        "\n",
        "    def get_idade(self):\n",
        "        return self.__idade\n",
        "\n",
        "    def set_idade(self, idade):\n",
        "        if isinstance(idade, int):\n",
        "            self.__idade = idade\n",
        "\n",
        "    def get_sexo(self):\n",
        "        return self.__sexo\n",
        "\n",
        "    def set_sexo(self, sexo):\n",
        "        if sexo in ('Masculino', 'Feminino'):\n",
        "            self.__sexo = sexo\n",
        "\n",
        "    # Método para mostrar os dados de uma pessoa\n",
        "    def mostrar(self):\n",
        "        print(f\"Nome: {self.__nome}, Idade: {self.__idade}, Sexo: {self.__sexo}\")\n",
        "\n",
        "    # Método estático para listar todas as pessoas cadastradas\n",
        "    @staticmethod\n",
        "    def listar_pessoas():\n",
        "        for pessoa in Pessoa.lista_pessoas:\n",
        "            pessoa.mostrar()\n",
        "\n",
        "    @staticmethod\n",
        "    def excluir_pessoa(nome):\n",
        "        for pessoa in Pessoa.lista_pessoas:\n",
        "            if pessoa.get_nome() == nome:\n",
        "                Pessoa.lista_pessoas.remove(pessoa)\n",
        "                print(f\"{nome} foi excluído.\")\n",
        "                return\n",
        "        print(f\"Pessoa com nome {nome} não encontrada.\")\n"
      ]
    },
    {
      "cell_type": "code",
      "source": [
        "p1 = Pessoa(\"Alek\", 30, \"Masc\")\n",
        "p2 = Pessoa(\"Ed\", 25, \"Masc\")"
      ],
      "metadata": {
        "id": "WBbnotlb3wZb"
      },
      "execution_count": null,
      "outputs": []
    },
    {
      "cell_type": "code",
      "source": [
        "Pessoa.listar_pessoas()"
      ],
      "metadata": {
        "colab": {
          "base_uri": "https://localhost:8080/"
        },
        "id": "_2NZPSGP33Yu",
        "outputId": "00b610fa-ef7c-4d95-8dad-f74689ca9098"
      },
      "execution_count": null,
      "outputs": [
        {
          "output_type": "stream",
          "name": "stdout",
          "text": [
            "Nome: Alek, Idade: 30, Sexo: Masc\n",
            "Nome: Ed, Idade: 25, Sexo: Masc\n"
          ]
        }
      ]
    },
    {
      "cell_type": "code",
      "source": [
        "Pessoa.excluir_pessoa(\"Ed\")"
      ],
      "metadata": {
        "colab": {
          "base_uri": "https://localhost:8080/"
        },
        "id": "Hu6gBmQm4N9W",
        "outputId": "7c430047-1288-46a4-83d3-e9d7b9cc8f3a"
      },
      "execution_count": null,
      "outputs": [
        {
          "output_type": "stream",
          "name": "stdout",
          "text": [
            "Ed foi excluído.\n"
          ]
        }
      ]
    },
    {
      "cell_type": "code",
      "source": [
        "Pessoa.listar_pessoas()"
      ],
      "metadata": {
        "id": "IZbDSrzz4Vh_",
        "outputId": "2430d106-9b57-4ff9-e5a1-33c2add73100",
        "colab": {
          "base_uri": "https://localhost:8080/"
        }
      },
      "execution_count": null,
      "outputs": [
        {
          "output_type": "stream",
          "name": "stdout",
          "text": [
            "Nome: Alek, Idade: 30, Sexo: Masc\n"
          ]
        }
      ]
    }
  ]
}
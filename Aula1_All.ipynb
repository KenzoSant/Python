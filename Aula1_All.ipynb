{
  "nbformat": 4,
  "nbformat_minor": 0,
  "metadata": {
    "colab": {
      "provenance": []
    },
    "kernelspec": {
      "name": "python3",
      "display_name": "Python 3"
    },
    "language_info": {
      "name": "python"
    }
  },
  "cells": [
    {
      "cell_type": "code",
      "execution_count": null,
      "metadata": {
        "id": "AffOLnDW_k4v"
      },
      "outputs": [],
      "source": [
        "class Porta:\n",
        "    # atributo de classe\n",
        "    cor = 'Amarelo'\n",
        "\n",
        "    # construtor\n",
        "    def __init__(self, status, id):\n",
        "        # atributos de instância\n",
        "        self.status = status\n",
        "        self.id = id\n",
        "\n",
        "    def abrir(self):\n",
        "        self.status = 'aberta'\n",
        "\n",
        "    def fechar(self):\n",
        "        self.status = 'fechada'"
      ]
    },
    {
      "cell_type": "code",
      "source": [
        "p1 = Porta('fechada', 100)\n",
        "p2 = Porta('aberta', 101)"
      ],
      "metadata": {
        "id": "h3YqMLzXDyQ6"
      },
      "execution_count": null,
      "outputs": []
    },
    {
      "cell_type": "code",
      "source": [
        "print(p1.status + ' - ' + str(p1.id) + ' - ' + p1.cor)\n",
        "print(p2.status + ' - ' + str(p2.id) + ' - ' + p2.cor)"
      ],
      "metadata": {
        "colab": {
          "base_uri": "https://localhost:8080/"
        },
        "id": "9FDj4EhhEFVz",
        "outputId": "4b9c20c9-86c6-4030-c4b9-5c40f19df547"
      },
      "execution_count": null,
      "outputs": [
        {
          "output_type": "stream",
          "name": "stdout",
          "text": [
            "fechada - 100 - Amarelo\n",
            "aberta - 101 - Amarelo\n"
          ]
        }
      ]
    },
    {
      "cell_type": "code",
      "source": [
        "p1.__dict__"
      ],
      "metadata": {
        "colab": {
          "base_uri": "https://localhost:8080/"
        },
        "id": "TySwxU1ZESS6",
        "outputId": "fef4cafb-4797-4456-90cf-995c99b1e1d3"
      },
      "execution_count": null,
      "outputs": [
        {
          "output_type": "execute_result",
          "data": {
            "text/plain": [
              "{'status': 'fechada', 'id': 100}"
            ]
          },
          "metadata": {},
          "execution_count": 5
        }
      ]
    },
    {
      "cell_type": "code",
      "source": [
        "p1.cor = 'Azul'"
      ],
      "metadata": {
        "id": "Cw0jkCRKE7TO"
      },
      "execution_count": null,
      "outputs": []
    },
    {
      "cell_type": "code",
      "source": [
        "print(p1.status + ' - ' + str(p1.id) + ' - ' + p1.cor)\n",
        "print(p2.status + ' - ' + str(p2.id) + ' - ' + p2.cor)"
      ],
      "metadata": {
        "colab": {
          "base_uri": "https://localhost:8080/"
        },
        "id": "bzf6iZmOFSo3",
        "outputId": "bedae240-314b-4f71-e88c-6c65d6f09a5d"
      },
      "execution_count": null,
      "outputs": [
        {
          "output_type": "stream",
          "name": "stdout",
          "text": [
            "fechada - 100 - Azul\n",
            "aberta - 101 - Amarelo\n"
          ]
        }
      ]
    },
    {
      "cell_type": "code",
      "source": [
        "p1.__dict__"
      ],
      "metadata": {
        "colab": {
          "base_uri": "https://localhost:8080/"
        },
        "id": "adzjXYTkFShv",
        "outputId": "93c29526-1710-4873-c35c-064526b2a657"
      },
      "execution_count": null,
      "outputs": [
        {
          "output_type": "execute_result",
          "data": {
            "text/plain": [
              "{'status': 'fechada', 'id': 100, 'cor': 'Azul'}"
            ]
          },
          "metadata": {},
          "execution_count": 8
        }
      ]
    },
    {
      "cell_type": "code",
      "source": [
        "p2.__dict__"
      ],
      "metadata": {
        "colab": {
          "base_uri": "https://localhost:8080/"
        },
        "id": "-Y9lGDQRFfZm",
        "outputId": "52646089-dee2-4ddb-db2a-c134bf1c5f0b"
      },
      "execution_count": null,
      "outputs": [
        {
          "output_type": "execute_result",
          "data": {
            "text/plain": [
              "{'status': 'aberta', 'id': 101}"
            ]
          },
          "metadata": {},
          "execution_count": 9
        }
      ]
    },
    {
      "cell_type": "code",
      "source": [
        "p2.material = 'madeira'"
      ],
      "metadata": {
        "id": "_bq5o2AJFlFH"
      },
      "execution_count": null,
      "outputs": []
    },
    {
      "cell_type": "code",
      "source": [
        "print(p1.__dict__)\n",
        "print(p2.__dict__)"
      ],
      "metadata": {
        "colab": {
          "base_uri": "https://localhost:8080/"
        },
        "id": "PQUhShrNF-bw",
        "outputId": "4a7ed9a4-a90e-496a-a1b5-ded66175c11f"
      },
      "execution_count": null,
      "outputs": [
        {
          "output_type": "stream",
          "name": "stdout",
          "text": [
            "{'status': 'fechada', 'id': 100, 'cor': 'Azul'}\n",
            "{'status': 'aberta', 'id': 101, 'material': 'madeira'}\n"
          ]
        }
      ]
    },
    {
      "cell_type": "code",
      "source": [
        "print(p2.material)\n",
        "#print(p1.material)"
      ],
      "metadata": {
        "colab": {
          "base_uri": "https://localhost:8080/"
        },
        "id": "XmosUnX-GEf_",
        "outputId": "59804f29-747f-4116-a876-65df787b8f03"
      },
      "execution_count": null,
      "outputs": [
        {
          "output_type": "stream",
          "name": "stdout",
          "text": [
            "madeira\n"
          ]
        }
      ]
    },
    {
      "cell_type": "code",
      "source": [
        "Porta.__dict__"
      ],
      "metadata": {
        "colab": {
          "base_uri": "https://localhost:8080/"
        },
        "id": "jhJOis8BGpOJ",
        "outputId": "4c849df3-22da-4329-c1f5-161f2a89ab6b"
      },
      "execution_count": null,
      "outputs": [
        {
          "output_type": "execute_result",
          "data": {
            "text/plain": [
              "mappingproxy({'__module__': '__main__',\n",
              "              'cor': 'Amarelo',\n",
              "              '__init__': <function __main__.Porta.__init__(self, status, id)>,\n",
              "              'abrir': <function __main__.Porta.abrir(self)>,\n",
              "              'fechar': <function __main__.Porta.fechar(self)>,\n",
              "              '__dict__': <attribute '__dict__' of 'Porta' objects>,\n",
              "              '__weakref__': <attribute '__weakref__' of 'Porta' objects>,\n",
              "              '__doc__': None})"
            ]
          },
          "metadata": {},
          "execution_count": 13
        }
      ]
    },
    {
      "cell_type": "code",
      "source": [
        "class Porta:\n",
        "    # atributo de classe\n",
        "    cor = 'Amarelo'\n",
        "\n",
        "    # construtor\n",
        "    def __init__(self, status, id):\n",
        "        # atributos de instância\n",
        "        self.status = status\n",
        "        self.id = id\n",
        "\n",
        "    def abrir(self):\n",
        "        self.status = 'aberta'\n",
        "\n",
        "    def fechar(self):\n",
        "        self.status = 'fechada'\n",
        "\n",
        "    @classmethod\n",
        "    def knock(cls):\n",
        "        print('knock knock!')\n",
        "\n",
        "    @classmethod\n",
        "    def pintar(cls, cor):\n",
        "        cls.cor = cor"
      ],
      "metadata": {
        "id": "hlEWSf4rHeky"
      },
      "execution_count": null,
      "outputs": []
    },
    {
      "cell_type": "code",
      "source": [
        "Porta.knock()"
      ],
      "metadata": {
        "colab": {
          "base_uri": "https://localhost:8080/"
        },
        "id": "U0qmxdvKm4bj",
        "outputId": "86126a17-e676-4139-a0a2-3a70f8e5070b"
      },
      "execution_count": null,
      "outputs": [
        {
          "output_type": "stream",
          "name": "stdout",
          "text": [
            "knock knock!\n"
          ]
        }
      ]
    },
    {
      "cell_type": "code",
      "source": [
        "p1 = Porta('fechada', 100)\n",
        "p2 = Porta('aberta', 101)"
      ],
      "metadata": {
        "id": "QzyEVjH6m_7E"
      },
      "execution_count": null,
      "outputs": []
    },
    {
      "cell_type": "code",
      "source": [
        "print(p1.status + ' - ' + str(p1.id) + ' - ' + p1.cor)\n",
        "print(p2.status + ' - ' + str(p2.id) + ' - ' + p2.cor)"
      ],
      "metadata": {
        "colab": {
          "base_uri": "https://localhost:8080/"
        },
        "id": "AB0tHp-Ynlob",
        "outputId": "f626209d-5b71-4454-b92e-e7f00abff1cd"
      },
      "execution_count": null,
      "outputs": [
        {
          "output_type": "stream",
          "name": "stdout",
          "text": [
            "fechada - 100 - Amarelo\n",
            "aberta - 101 - Amarelo\n"
          ]
        }
      ]
    },
    {
      "cell_type": "code",
      "source": [
        "print(p1.__dict__)\n",
        "print(p2.__dict__)\n",
        "print(Porta.__dict__)"
      ],
      "metadata": {
        "colab": {
          "base_uri": "https://localhost:8080/"
        },
        "id": "60dbxArQnqrk",
        "outputId": "f947e3aa-498f-492e-fcdb-e1f5b5c50ff2"
      },
      "execution_count": null,
      "outputs": [
        {
          "output_type": "stream",
          "name": "stdout",
          "text": [
            "{'status': 'fechada', 'id': 100}\n",
            "{'status': 'aberta', 'id': 101}\n",
            "{'__module__': '__main__', 'cor': 'Amarelo', '__init__': <function Porta.__init__ at 0x79dd9a49f250>, 'abrir': <function Porta.abrir at 0x79dd9a49eb90>, 'fechar': <function Porta.fechar at 0x79dd9a49eef0>, 'knock': <classmethod(<function Porta.knock at 0x79dd9a49e560>)>, 'pintar': <classmethod(<function Porta.pintar at 0x79dd9a49ef80>)>, '__dict__': <attribute '__dict__' of 'Porta' objects>, '__weakref__': <attribute '__weakref__' of 'Porta' objects>, '__doc__': None, '__annotations__': {}}\n"
          ]
        }
      ]
    },
    {
      "cell_type": "code",
      "source": [
        "Porta.pintar('branco')"
      ],
      "metadata": {
        "id": "p1CCHMEen6Z_"
      },
      "execution_count": null,
      "outputs": []
    },
    {
      "cell_type": "code",
      "source": [
        "print(p1.__dict__)\n",
        "print(p2.__dict__)\n",
        "print(Porta.__dict__)"
      ],
      "metadata": {
        "colab": {
          "base_uri": "https://localhost:8080/"
        },
        "id": "f57xZMIaoLvR",
        "outputId": "8fc1971c-d083-4110-ef2b-8f51ba83041c"
      },
      "execution_count": null,
      "outputs": [
        {
          "output_type": "stream",
          "name": "stdout",
          "text": [
            "{'status': 'fechada', 'id': 100}\n",
            "{'status': 'aberta', 'id': 101}\n",
            "{'__module__': '__main__', 'cor': 'branco', '__init__': <function Porta.__init__ at 0x79dd9a49f250>, 'abrir': <function Porta.abrir at 0x79dd9a49eb90>, 'fechar': <function Porta.fechar at 0x79dd9a49eef0>, 'knock': <classmethod(<function Porta.knock at 0x79dd9a49e560>)>, 'pintar': <classmethod(<function Porta.pintar at 0x79dd9a49ef80>)>, '__dict__': <attribute '__dict__' of 'Porta' objects>, '__weakref__': <attribute '__weakref__' of 'Porta' objects>, '__doc__': None, '__annotations__': {}}\n"
          ]
        }
      ]
    },
    {
      "cell_type": "code",
      "source": [
        "p1.pintar('Roxo')"
      ],
      "metadata": {
        "id": "TaWcIAI8oO55"
      },
      "execution_count": null,
      "outputs": []
    },
    {
      "cell_type": "code",
      "source": [
        "print(p1.__dict__)\n",
        "print(p2.__dict__)\n",
        "print(Porta.__dict__)"
      ],
      "metadata": {
        "colab": {
          "base_uri": "https://localhost:8080/"
        },
        "id": "bt_Z5Yp0oWG6",
        "outputId": "1dfd80a0-d454-4012-d372-934b0f626857"
      },
      "execution_count": null,
      "outputs": [
        {
          "output_type": "stream",
          "name": "stdout",
          "text": [
            "{'status': 'fechada', 'id': 100}\n",
            "{'status': 'aberta', 'id': 101}\n",
            "{'__module__': '__main__', 'cor': 'Roxo', '__init__': <function Porta.__init__ at 0x79dd9a49f250>, 'abrir': <function Porta.abrir at 0x79dd9a49eb90>, 'fechar': <function Porta.fechar at 0x79dd9a49eef0>, 'knock': <classmethod(<function Porta.knock at 0x79dd9a49e560>)>, 'pintar': <classmethod(<function Porta.pintar at 0x79dd9a49ef80>)>, '__dict__': <attribute '__dict__' of 'Porta' objects>, '__weakref__': <attribute '__weakref__' of 'Porta' objects>, '__doc__': None, '__annotations__': {}}\n"
          ]
        }
      ]
    },
    {
      "cell_type": "markdown",
      "source": [
        "## Exercício\n",
        "\n",
        "Criar uma classe chamada `Carro` com os seguintes atributos: `modelo`, `cor`, `ano`, `preco` e `total_carros` (o último deve ser um atributo de classe)\n",
        "\n",
        "Crie os métodos `set` e `get` para cada atributo, um construtor, um método `imprimir_carro` e um método `imprimir_total`."
      ],
      "metadata": {
        "id": "8_1UuD2nph--"
      }
    },
    {
      "cell_type": "code",
      "source": [
        "class Carro:\n",
        "    total_carros = 0\n",
        "\n",
        "    def __init__(self, modelo=None, ano=None, cor=None, preco=None):\n",
        "        self.modelo = modelo\n",
        "        self.ano = ano\n",
        "        self.cor = cor\n",
        "        self.preco = preco\n",
        "        self.__class__.total_carros += 1\n",
        "\n",
        "    def get_modelo(self):\n",
        "        return str(self.modelo)\n",
        "\n",
        "    def get_ano(self):\n",
        "        return str(self.ano)\n",
        "\n",
        "    def get_cor(self):\n",
        "        return str(self.cor)\n",
        "\n",
        "    def get_preco(self):\n",
        "        return str(self.preco)\n",
        "\n",
        "    def imprimir_carro(self):\n",
        "        print('Modelo: ' + self.get_modelo())\n",
        "        print('Ano: ' + self.get_ano())\n",
        "        print('Cor: ' + self.get_cor())\n",
        "        print('Preço: ' + self.get_preco())\n",
        "\n",
        "    @classmethod\n",
        "    def imprime_total(cls):\n",
        "        print('Total de carros = ' + str(cls.total_carros))"
      ],
      "metadata": {
        "id": "FMQsCXz9oYij"
      },
      "execution_count": null,
      "outputs": []
    },
    {
      "cell_type": "code",
      "source": [
        "c1 = Carro()\n",
        "c2 = Carro(modelo = 'Uno')\n",
        "c3 = Carro(ano = 2010)"
      ],
      "metadata": {
        "id": "_s7p09WB8Qz0"
      },
      "execution_count": null,
      "outputs": []
    },
    {
      "cell_type": "code",
      "source": [
        "c1.imprimir_carro()\n",
        "c2.imprimir_carro()\n",
        "c3.imprimir_carro()"
      ],
      "metadata": {
        "colab": {
          "base_uri": "https://localhost:8080/"
        },
        "id": "onxMrbED8yQ8",
        "outputId": "980f58af-b49f-4539-e381-0fd824281247"
      },
      "execution_count": null,
      "outputs": [
        {
          "output_type": "stream",
          "name": "stdout",
          "text": [
            "Modelo: None\n",
            "Ano: None\n",
            "Cor: None\n",
            "Preço: None\n",
            "Modelo: Uno\n",
            "Ano: None\n",
            "Cor: None\n",
            "Preço: None\n",
            "Modelo: None\n",
            "Ano: 2010\n",
            "Cor: None\n",
            "Preço: None\n"
          ]
        }
      ]
    },
    {
      "cell_type": "code",
      "source": [
        "Carro.imprime_total()"
      ],
      "metadata": {
        "colab": {
          "base_uri": "https://localhost:8080/"
        },
        "id": "xLUjepec81z6",
        "outputId": "d4e34a1d-c952-4282-8b24-5e7f3cabfbed"
      },
      "execution_count": null,
      "outputs": [
        {
          "output_type": "stream",
          "name": "stdout",
          "text": [
            "Total de carros = 3\n"
          ]
        }
      ]
    }
  ]
}
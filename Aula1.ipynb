{
  "nbformat": 4,
  "nbformat_minor": 0,
  "metadata": {
    "colab": {
      "provenance": []
    },
    "kernelspec": {
      "name": "python3",
      "display_name": "Python 3"
    },
    "language_info": {
      "name": "python"
    }
  },
  "cells": [
    {
      "cell_type": "code",
      "execution_count": null,
      "metadata": {
        "id": "Z4rrGJ5Q7Aum"
      },
      "outputs": [],
      "source": [
        "class Porta:\n",
        "\n",
        "    # atributo de classe\n",
        "    cor = 'Amarelo'\n",
        "\n",
        "    # construtor\n",
        "    def __init__(self, status, id):\n",
        "        # atributos de instância\n",
        "        # self = this do java\n",
        "        self.status = status\n",
        "        self.id = id\n",
        "\n",
        "    def abrir(self):\n",
        "        self.status = 'Aberta'\n",
        "\n",
        "    def fechar(self):\n",
        "        self.status = 'Fechada'\n",
        "\n",
        "    @classmethod\n",
        "    def knock(cls):\n",
        "        print('knock knock !')\n",
        "\n",
        "    @classmethod\n",
        "    def pintar(cls, cor):\n",
        "        cls.cor = cor"
      ]
    },
    {
      "cell_type": "code",
      "source": [
        "Porta.knock()"
      ],
      "metadata": {
        "colab": {
          "base_uri": "https://localhost:8080/"
        },
        "id": "3emm40yOm64r",
        "outputId": "e7603de4-5569-410e-9910-5c44efe745a6"
      },
      "execution_count": null,
      "outputs": [
        {
          "output_type": "stream",
          "name": "stdout",
          "text": [
            "knock knock !\n"
          ]
        }
      ]
    },
    {
      "cell_type": "code",
      "source": [
        "p1 = Porta('Fechada',100)\n",
        "p2 = Porta('Fechada',101)"
      ],
      "metadata": {
        "id": "hNJZfI-TD8wX"
      },
      "execution_count": null,
      "outputs": []
    },
    {
      "cell_type": "code",
      "source": [
        "p1.__dict__"
      ],
      "metadata": {
        "colab": {
          "base_uri": "https://localhost:8080/"
        },
        "id": "Aih_GpK2FOG2",
        "outputId": "d39be674-5961-4ffb-9781-341584bf40cb"
      },
      "execution_count": null,
      "outputs": [
        {
          "output_type": "execute_result",
          "data": {
            "text/plain": [
              "{'status': 'Fechada', 'id': 100}"
            ]
          },
          "metadata": {},
          "execution_count": 7
        }
      ]
    },
    {
      "cell_type": "code",
      "source": [
        "print(p1.status + ' - ' + str(p1.id) + ' - ' + p1.cor)\n",
        "print(p2.status + ' - ' + str(p2.id) + ' - ' + p2.cor)"
      ],
      "metadata": {
        "colab": {
          "base_uri": "https://localhost:8080/"
        },
        "id": "pHGEHpa8EGR4",
        "outputId": "68bf14ef-eb81-459b-a161-4dce894f9752"
      },
      "execution_count": null,
      "outputs": [
        {
          "output_type": "stream",
          "name": "stdout",
          "text": [
            "Fechada - 100 - Amarelo\n",
            "Fechada - 101 - Amarelo\n"
          ]
        }
      ]
    },
    {
      "cell_type": "code",
      "source": [
        "print(p1.__dict__)\n",
        "print(p2.__dict__)\n",
        "print(Porta.__dict__)"
      ],
      "metadata": {
        "colab": {
          "base_uri": "https://localhost:8080/"
        },
        "id": "xVO4d4W2nzMW",
        "outputId": "004722e2-19b1-4db2-d610-333b12e04e6b"
      },
      "execution_count": null,
      "outputs": [
        {
          "output_type": "stream",
          "name": "stdout",
          "text": [
            "{'status': 'Fechada', 'id': 100}\n",
            "{'status': 'Fechada', 'id': 101}\n",
            "{'__module__': '__main__', 'cor': 'Amarelo', '__init__': <function Porta.__init__ at 0x79ea2616c9d0>, 'abrir': <function Porta.abrir at 0x79ea2616ca60>, 'fechar': <function Porta.fechar at 0x79ea2616caf0>, 'knock': <classmethod(<function Porta.knock at 0x79ea2616cb80>)>, 'pintar': <classmethod(<function Porta.pintar at 0x79ea2616cc10>)>, '__dict__': <attribute '__dict__' of 'Porta' objects>, '__weakref__': <attribute '__weakref__' of 'Porta' objects>, '__doc__': None}\n"
          ]
        }
      ]
    },
    {
      "cell_type": "code",
      "source": [
        "Porta.pintar('branco')"
      ],
      "metadata": {
        "id": "6wl85qRToJqn"
      },
      "execution_count": null,
      "outputs": []
    },
    {
      "cell_type": "code",
      "source": [
        "print(p1.__dict__)\n",
        "print(p2.__dict__)\n",
        "print(Porta.__dict__)"
      ],
      "metadata": {
        "colab": {
          "base_uri": "https://localhost:8080/"
        },
        "id": "CarfScR2oQFH",
        "outputId": "2104de0e-ffae-401b-a498-4769ab86a70d"
      },
      "execution_count": null,
      "outputs": [
        {
          "output_type": "stream",
          "name": "stdout",
          "text": [
            "{'status': 'Fechada', 'id': 100}\n",
            "{'status': 'Fechada', 'id': 101}\n",
            "{'__module__': '__main__', 'cor': 'branco', '__init__': <function Porta.__init__ at 0x79ea2616c9d0>, 'abrir': <function Porta.abrir at 0x79ea2616ca60>, 'fechar': <function Porta.fechar at 0x79ea2616caf0>, 'knock': <classmethod(<function Porta.knock at 0x79ea2616cb80>)>, 'pintar': <classmethod(<function Porta.pintar at 0x79ea2616cc10>)>, '__dict__': <attribute '__dict__' of 'Porta' objects>, '__weakref__': <attribute '__weakref__' of 'Porta' objects>, '__doc__': None}\n"
          ]
        }
      ]
    },
    {
      "cell_type": "code",
      "source": [
        "p1.pintar('roxo')"
      ],
      "metadata": {
        "id": "lBvy9vZAovt6"
      },
      "execution_count": null,
      "outputs": []
    },
    {
      "cell_type": "code",
      "source": [
        "print(p1.__dict__)\n",
        "print(p2.__dict__)\n",
        "print(Porta.__dict__)"
      ],
      "metadata": {
        "colab": {
          "base_uri": "https://localhost:8080/"
        },
        "id": "KqvX2ljrozIZ",
        "outputId": "43cdab58-26bb-4bfa-d0d1-b439c21c4a19"
      },
      "execution_count": null,
      "outputs": [
        {
          "output_type": "stream",
          "name": "stdout",
          "text": [
            "{'status': 'Fechada', 'id': 100}\n",
            "{'status': 'Fechada', 'id': 101}\n",
            "{'__module__': '__main__', 'cor': 'roxo', '__init__': <function Porta.__init__ at 0x79ea2616c9d0>, 'abrir': <function Porta.abrir at 0x79ea2616ca60>, 'fechar': <function Porta.fechar at 0x79ea2616caf0>, 'knock': <classmethod(<function Porta.knock at 0x79ea2616cb80>)>, 'pintar': <classmethod(<function Porta.pintar at 0x79ea2616cc10>)>, '__dict__': <attribute '__dict__' of 'Porta' objects>, '__weakref__': <attribute '__weakref__' of 'Porta' objects>, '__doc__': None}\n"
          ]
        }
      ]
    },
    {
      "cell_type": "code",
      "source": [
        "p1.cor = 'Azul' #alterei o atributo da instância e não da classe"
      ],
      "metadata": {
        "id": "wH4jtpZ7Fbnr"
      },
      "execution_count": null,
      "outputs": []
    },
    {
      "cell_type": "code",
      "source": [
        "print(p1.status + ' - ' + str(p1.id) + ' - ' + p1.cor)\n",
        "print(p2.status + ' - ' + str(p2.id) + ' - ' + p2.cor)"
      ],
      "metadata": {
        "colab": {
          "base_uri": "https://localhost:8080/"
        },
        "id": "CWhJ7MWgFiNU",
        "outputId": "164cf5b5-5635-448c-d89d-32bc900619d4"
      },
      "execution_count": null,
      "outputs": [
        {
          "output_type": "stream",
          "name": "stdout",
          "text": [
            "Fechada - 100 - Azul\n",
            "Fechada - 101 - Amarelo\n"
          ]
        }
      ]
    },
    {
      "cell_type": "code",
      "source": [
        "p1.__dict__"
      ],
      "metadata": {
        "colab": {
          "base_uri": "https://localhost:8080/"
        },
        "id": "aYSh5abnFl88",
        "outputId": "267bee37-d711-4482-c5ae-b24efcce960e"
      },
      "execution_count": null,
      "outputs": [
        {
          "output_type": "execute_result",
          "data": {
            "text/plain": [
              "{'status': 'Fechada', 'id': 100, 'cor': 'Azul'}"
            ]
          },
          "metadata": {},
          "execution_count": 12
        }
      ]
    },
    {
      "cell_type": "code",
      "source": [
        "p2.__dict__"
      ],
      "metadata": {
        "colab": {
          "base_uri": "https://localhost:8080/"
        },
        "id": "akqNLS5xFt-d",
        "outputId": "6f5d2745-ab75-4b8b-eb81-aedf9f17603b"
      },
      "execution_count": null,
      "outputs": [
        {
          "output_type": "execute_result",
          "data": {
            "text/plain": [
              "{'status': 'Fechada', 'id': 101}"
            ]
          },
          "metadata": {},
          "execution_count": 13
        }
      ]
    },
    {
      "cell_type": "code",
      "source": [
        "p2.material = 'Madeira' # alterei o atributo da instância e não da classe"
      ],
      "metadata": {
        "id": "hUzvlAl8GrOo"
      },
      "execution_count": null,
      "outputs": []
    },
    {
      "cell_type": "code",
      "source": [
        "print(p1.status + ' - ' + str(p1.id) + ' - ' + p1.cor )\n",
        "print(p2.status + ' - ' + str(p2.id) + ' - ' + p2.cor + ' - ' + p2.material)"
      ],
      "metadata": {
        "colab": {
          "base_uri": "https://localhost:8080/"
        },
        "id": "AjZNCK6uGvr5",
        "outputId": "1f7b985f-4b67-4d3b-850d-47a94c0a50e6"
      },
      "execution_count": null,
      "outputs": [
        {
          "output_type": "stream",
          "name": "stdout",
          "text": [
            "Fechada - 100 - Azul\n",
            "Fechada - 101 - Amarelo - Madeira\n"
          ]
        }
      ]
    },
    {
      "cell_type": "code",
      "source": [
        "print(p1.__dict__)\n",
        "print(p2.__dict__)"
      ],
      "metadata": {
        "colab": {
          "base_uri": "https://localhost:8080/"
        },
        "id": "LVwLFIkpG-2R",
        "outputId": "473b3677-06e0-49c1-90b0-b3c9e07f824f"
      },
      "execution_count": null,
      "outputs": [
        {
          "output_type": "stream",
          "name": "stdout",
          "text": [
            "{'status': 'Fechada', 'id': 100, 'cor': 'Azul'}\n",
            "{'status': 'Fechada', 'id': 101, 'material': 'Madeira'}\n"
          ]
        }
      ]
    }
  ]
}
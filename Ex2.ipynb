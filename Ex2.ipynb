{
  "nbformat": 4,
  "nbformat_minor": 0,
  "metadata": {
    "colab": {
      "provenance": [],
      "authorship_tag": "ABX9TyOX3/M5tS3CkRpY7aeWxFPp"
    },
    "kernelspec": {
      "name": "python3",
      "display_name": "Python 3"
    },
    "language_info": {
      "name": "python"
    }
  },
  "cells": [
    {
      "cell_type": "code",
      "execution_count": null,
      "metadata": {
        "id": "-9gHECgXKAto"
      },
      "outputs": [],
      "source": [
        "class Politico:\n",
        "\n",
        "    # construtor\n",
        "    def __init__(self, nome=None, partido=None, estado=None, funcao=None):\n",
        "        # atributos de instância\n",
        "        self.__nome = nome\n",
        "        self.__partido = partido\n",
        "        self.__estado = estado\n",
        "        self.__funcao = funcao\n",
        "\n",
        "    # Nome\n",
        "    def get_nome(self):\n",
        "        return str(self.__nome) # (str) vai servir para tratar o NOME como String pq o print so concatena String\n",
        "\n",
        "    def set_nome(self, nome):\n",
        "      if type(nome) == str:\n",
        "          self.__nome = nome\n",
        "\n",
        "    # Partido\n",
        "    def get_partido(self):\n",
        "        return str(self.__partido)\n",
        "\n",
        "    def set_partido(self, partido):\n",
        "      if type(partido) == str:\n",
        "          self.__partido = partido\n",
        "\n",
        "    # Estado\n",
        "    def get_estado(self):\n",
        "        return str(self.__estado)\n",
        "\n",
        "    def set_estado(self, estado):\n",
        "      if type(estado) == str:\n",
        "          self.__estado = estado\n",
        "\n",
        "    # Funcao\n",
        "    def get_funcao(self):\n",
        "        return str(self.__funcao)\n",
        "\n",
        "    def set_funcao(self, funcao):\n",
        "      if type(funcao) == str:\n",
        "          self.__funcao = funcao\n",
        "\n",
        "    # metodo\n",
        "    def apresentacao(self):\n",
        "        print('Nome:' + self.get_nome())\n",
        "        print(f\"Partido:{self.__partido}\")\n",
        "        print(f\"Estado:{self.__estado}\")\n",
        "        print(f\"Função:{self.__funcao}\")"
      ]
    },
    {
      "cell_type": "code",
      "source": [
        "p1 = Politico()\n",
        "p1.set_nome('Alek')\n",
        "p1.set_partido('TCP')\n",
        "p1.set_estado('SP')\n",
        "p1.set_funcao('Roubar')\n",
        "p1.apresentacao()"
      ],
      "metadata": {
        "colab": {
          "base_uri": "https://localhost:8080/"
        },
        "id": "jZx9SuzNMUx7",
        "outputId": "1e1cd680-d3b4-4980-9366-b8076710fdf2"
      },
      "execution_count": null,
      "outputs": [
        {
          "output_type": "stream",
          "name": "stdout",
          "text": [
            "Nome:Alek\n",
            "Partido:TCP\n",
            "Estado:SP\n",
            "Função:Roubar\n"
          ]
        }
      ]
    },
    {
      "cell_type": "code",
      "source": [
        "print(p1.__dict__)"
      ],
      "metadata": {
        "colab": {
          "base_uri": "https://localhost:8080/"
        },
        "id": "nfo2ZfQqk_qd",
        "outputId": "736f1f7d-3071-40cf-c3a2-119cb54dc847"
      },
      "execution_count": null,
      "outputs": [
        {
          "output_type": "stream",
          "name": "stdout",
          "text": [
            "{'_Politico__nome': 'Alek', '_Politico__partido': 'TCP', '_Politico__estado': 'SP', '_Politico__funcao': 'Roubar'}\n"
          ]
        }
      ]
    },
    {
      "cell_type": "code",
      "source": [
        "p1._Politico__nome = 'Jaime'\n",
        "print(p1._Politico__nome)"
      ],
      "metadata": {
        "colab": {
          "base_uri": "https://localhost:8080/"
        },
        "id": "DBcrgsqpkZkv",
        "outputId": "7dcb21fc-210d-4bb3-a6af-7c3f5e5e3284"
      },
      "execution_count": null,
      "outputs": [
        {
          "output_type": "stream",
          "name": "stdout",
          "text": [
            "Jaime\n"
          ]
        }
      ]
    },
    {
      "cell_type": "code",
      "source": [
        "print(p1.__dict__)"
      ],
      "metadata": {
        "colab": {
          "base_uri": "https://localhost:8080/"
        },
        "id": "_xZu8oJ2krWZ",
        "outputId": "9e120677-53fc-40e7-a696-5afc4cfedb82"
      },
      "execution_count": null,
      "outputs": [
        {
          "output_type": "stream",
          "name": "stdout",
          "text": [
            "{'_Politico__nome': 'Jaime', '_Politico__partido': 'TCP', '_Politico__estado': 'SP', '_Politico__funcao': 'Roubar'}\n"
          ]
        }
      ]
    },
    {
      "cell_type": "code",
      "source": [
        "class Prefeito(Politico):\n",
        "\n",
        "    # construtor\n",
        "    def __init__(self, nome=None, partido=None, estado=None, funcao=None, municipio=None):\n",
        "        super().__init__(nome, partido, estado, funcao)\n",
        "        # atributos de instância\n",
        "        # atributo de Classe\n",
        "        self.__municipio = municipio\n",
        "\n",
        "        # Estado\n",
        "    def get_municipio(self):\n",
        "        return str(self.__municipio)\n",
        "\n",
        "    def set_municipio(self, municipio):\n",
        "      if type(municipio) == str:\n",
        "          self.__municipio = municipio\n",
        "\n",
        "    # metodo\n",
        "    def apresentacao(self):\n",
        "        super().apresentacao()\n",
        "        print('Prefeito de: '+ self.get_municipio())"
      ],
      "metadata": {
        "id": "vZiV4l6UiMzL"
      },
      "execution_count": null,
      "outputs": []
    },
    {
      "cell_type": "code",
      "source": [
        "p2 = Prefeito()\n",
        "p2.set_nome('Coan')\n",
        "p2.set_partido('CV')\n",
        "p2.set_estado('RJ')\n",
        "p2.set_funcao('Assalto')\n",
        "p2.set_municipio('BelforRoxo')\n",
        "p2.apresentacao()"
      ],
      "metadata": {
        "colab": {
          "base_uri": "https://localhost:8080/"
        },
        "id": "tNlx9TkujU0s",
        "outputId": "ee260268-7900-4b15-a814-740ae737799b"
      },
      "execution_count": null,
      "outputs": [
        {
          "output_type": "stream",
          "name": "stdout",
          "text": [
            "Nome:Coan\n",
            "Partido:CV\n",
            "Estado:RJ\n",
            "Função:Assalto\n",
            "Prefeito de: BelforRoxo\n"
          ]
        }
      ]
    },
    {
      "cell_type": "code",
      "source": [
        "print(p2.__dict__)"
      ],
      "metadata": {
        "colab": {
          "base_uri": "https://localhost:8080/"
        },
        "id": "kIFMS5Z8j_LG",
        "outputId": "bdad639b-5a0a-4259-9401-aa77b9927033"
      },
      "execution_count": null,
      "outputs": [
        {
          "output_type": "stream",
          "name": "stdout",
          "text": [
            "{'_Politico__nome': 'Coan', '_Politico__partido': 'CV', '_Politico__estado': 'RJ', '_Politico__funcao': 'Assalto', '_Prefeito__municipio': 'BelforRoxo'}\n"
          ]
        }
      ]
    },
    {
      "cell_type": "code",
      "source": [
        "class Vereador(Politico):\n",
        "\n",
        "    # construtor\n",
        "    def __init__(self, nome=None, partido=None, estado=None, funcao=None, municipio=None):\n",
        "        super().__init__(nome, partido, estado, funcao)\n",
        "        # atributos de instância\n",
        "        # atributo de Classe\n",
        "        self.__municipio = municipio\n",
        "\n",
        "        # Estado\n",
        "    def get_municipio(self):\n",
        "        return str(self.__municipio)\n",
        "\n",
        "    def set_municipio(self, municipio):\n",
        "      if type(municipio) == str:\n",
        "          self.__municipio = municipio\n",
        "\n",
        "    # metodo\n",
        "    def apresentacao(self):\n",
        "        super().apresentacao()\n",
        "        print('Prefeito de: '+ self.get_municipio())"
      ],
      "metadata": {
        "id": "-d7uRHdWkJ6W"
      },
      "execution_count": null,
      "outputs": []
    },
    {
      "cell_type": "code",
      "source": [
        "p3 = Vereador()\n",
        "p3.set_nome('Ed')\n",
        "p3.set_partido('PCC')\n",
        "p3.set_estado('SP')\n",
        "p3.set_funcao('Formacao de Quadrilha')\n",
        "p3.set_municipio('ZonaLeste')\n",
        "p3.apresentacao()"
      ],
      "metadata": {
        "colab": {
          "base_uri": "https://localhost:8080/"
        },
        "id": "caXryD5DnFut",
        "outputId": "b0eb6f96-0540-438c-8095-e47d0ea73a4c"
      },
      "execution_count": null,
      "outputs": [
        {
          "output_type": "stream",
          "name": "stdout",
          "text": [
            "Nome:Ed\n",
            "Partido:PCC\n",
            "Estado:SP\n",
            "Função:Formacao de Quadrilha\n",
            "Prefeito de: ZonaLeste\n"
          ]
        }
      ]
    },
    {
      "cell_type": "code",
      "source": [
        "print(p3.__dict__)"
      ],
      "metadata": {
        "colab": {
          "base_uri": "https://localhost:8080/"
        },
        "id": "g1aaTqkMkO1e",
        "outputId": "0d50474f-6e4c-4fb7-d724-f23a2a6c4e4a"
      },
      "execution_count": null,
      "outputs": [
        {
          "output_type": "stream",
          "name": "stdout",
          "text": [
            "{'_Politico__nome': 'Ed', '_Politico__partido': 'PCC', '_Politico__estado': 'SP', '_Politico__funcao': 'Formacao de Quadrilha', '_Vereador__municipio': 'ZonaLeste'}\n"
          ]
        }
      ]
    }
  ]
}
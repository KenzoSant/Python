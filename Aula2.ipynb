{
  "nbformat": 4,
  "nbformat_minor": 0,
  "metadata": {
    "colab": {
      "provenance": [],
      "authorship_tag": "ABX9TyPNartuvew4V6oGATj7Ub4P"
    },
    "kernelspec": {
      "name": "python3",
      "display_name": "Python 3"
    },
    "language_info": {
      "name": "python"
    }
  },
  "cells": [
    {
      "cell_type": "markdown",
      "source": [
        "##Herança"
      ],
      "metadata": {
        "id": "ZTX9PX6IAy6L"
      }
    },
    {
      "cell_type": "code",
      "source": [
        "class Porta:\n",
        "\n",
        "    # atributo de classe\n",
        "    cor = 'Amarelo'\n",
        "\n",
        "    # construtor\n",
        "    def __init__(self, status, id):\n",
        "        # atributos de instância\n",
        "        # self = this do java\n",
        "        self.status = status\n",
        "        self.id = id\n",
        "\n",
        "    # metodo\n",
        "    def abrir(self):\n",
        "        self.status = 'Aberta'\n",
        "\n",
        "    def fechar(self):\n",
        "        self.status = 'Fechada'\n",
        "\n",
        "    @classmethod\n",
        "    def pintar(cls, cor):\n",
        "        cls.cor = cor"
      ],
      "metadata": {
        "id": "YKV0mH7uA8Nc"
      },
      "execution_count": null,
      "outputs": []
    },
    {
      "cell_type": "code",
      "source": [
        "class PortaSeguranca(Porta):\n",
        "    cor = 'Cinza'\n",
        "\n",
        "    # atributo de Classe\n",
        "    locked = True\n",
        "\n",
        "    # metodo\n",
        "    def abrir(self):\n",
        "      if not self.locked:\n",
        "        self.status = 'Aberta'"
      ],
      "metadata": {
        "id": "-Y-daKObCCK6"
      },
      "execution_count": null,
      "outputs": []
    },
    {
      "cell_type": "code",
      "source": [
        "p1 = Porta('Fechada',100)\n",
        "p2 = PortaSeguranca('Fechada',101)"
      ],
      "metadata": {
        "id": "ZvIcqIrTDnZJ"
      },
      "execution_count": null,
      "outputs": []
    },
    {
      "cell_type": "code",
      "source": [
        "print(p1.__dict__)\n",
        "print(p2.__dict__)"
      ],
      "metadata": {
        "colab": {
          "base_uri": "https://localhost:8080/"
        },
        "id": "waV93COaDqB4",
        "outputId": "fe68378e-3473-49d1-a5f4-f1c12c516efe"
      },
      "execution_count": null,
      "outputs": [
        {
          "output_type": "stream",
          "name": "stdout",
          "text": [
            "{'status': 'Fechada', 'id': 100}\n",
            "{'status': 'Fechada', 'id': 101}\n"
          ]
        }
      ]
    },
    {
      "cell_type": "code",
      "source": [
        "p1.abrir()\n",
        "p2.abrir()"
      ],
      "metadata": {
        "id": "Py_w40PEDuoY"
      },
      "execution_count": null,
      "outputs": []
    },
    {
      "cell_type": "code",
      "source": [
        "print(p1.__dict__)\n",
        "print(p2.__dict__)"
      ],
      "metadata": {
        "colab": {
          "base_uri": "https://localhost:8080/"
        },
        "id": "uVM7pkzhDzX5",
        "outputId": "81b3aec1-6853-44fc-c330-9b5ad8c4d081"
      },
      "execution_count": null,
      "outputs": [
        {
          "output_type": "stream",
          "name": "stdout",
          "text": [
            "{'status': 'Aberta', 'id': 100}\n",
            "{'status': 'Fechada', 'id': 101}\n"
          ]
        }
      ]
    },
    {
      "cell_type": "markdown",
      "source": [
        "Resolvendo 2 Problemas:\n",
        "\n",
        "1.  Deixar o atributo `locked` como um atributo de instância\n",
        "2.  Não copiar a imlementação do código para abrir uma porta, mas sim chamar o metodo `abrir()` da super classe"
      ],
      "metadata": {
        "id": "wwSnwtJ_FK_9"
      }
    },
    {
      "cell_type": "code",
      "source": [
        "class PortaSeguranca(Porta):\n",
        "    cor = 'Cinza'\n",
        "\n",
        "    # construtor\n",
        "    def __init__(self, id):\n",
        "        super().__init__('Fechada', id)\n",
        "        # atributos de instância\n",
        "        # atributo de Classe\n",
        "        self.locked = True\n",
        "\n",
        "    # metodo\n",
        "    def abrir(self):\n",
        "      if not self.locked:\n",
        "        super().abrir"
      ],
      "metadata": {
        "id": "saCGnkL5F3RJ"
      },
      "execution_count": null,
      "outputs": []
    },
    {
      "cell_type": "code",
      "source": [
        "p3 = PortaSeguranca(102)"
      ],
      "metadata": {
        "id": "RD3PyijBG_Py"
      },
      "execution_count": null,
      "outputs": []
    },
    {
      "cell_type": "code",
      "source": [
        "print(p3.__dict__)\n",
        "p3.abrir()"
      ],
      "metadata": {
        "colab": {
          "base_uri": "https://localhost:8080/"
        },
        "id": "vyUnYUllHG8K",
        "outputId": "e65466ae-f611-47d3-b85f-7d56d28241d3"
      },
      "execution_count": null,
      "outputs": [
        {
          "output_type": "stream",
          "name": "stdout",
          "text": [
            "{'status': 'Fechada', 'id': 102, 'locked': True}\n"
          ]
        }
      ]
    }
  ]
}
{
  "nbformat": 4,
  "nbformat_minor": 0,
  "metadata": {
    "colab": {
      "provenance": [],
      "authorship_tag": "ABX9TyPWfrl5AQn92tGzoZChe8/i"
    },
    "kernelspec": {
      "name": "python3",
      "display_name": "Python 3"
    },
    "language_info": {
      "name": "python"
    }
  },
  "cells": [
    {
      "cell_type": "code",
      "execution_count": null,
      "metadata": {
        "id": "jYLpn-Ss93tO"
      },
      "outputs": [],
      "source": [
        "from typing_extensions import Self\n",
        "class Carro:\n",
        "\n",
        "    # atributo de classe\n",
        "    total_carro = 0\n",
        "\n",
        "    # construtor\n",
        "    def __init__(self, cor=None, modelo=None, ano=None, preco=None):\n",
        "        # atributos de instância\n",
        "        # self = this do java\n",
        "        self.cor = cor\n",
        "        self.modelo = modelo\n",
        "        self.ano = ano\n",
        "        self.preco = preco\n",
        "        Carro.total_carro += 1\n",
        "\n",
        "    # COR\n",
        "    def get_cor(self):\n",
        "        return str(self.cor)\n",
        "\n",
        "    def set_cor(self, cor):\n",
        "        self.cor = cor\n",
        "\n",
        "    # MODELO\n",
        "    def get_modelo(self):\n",
        "        return str(self.modelo)\n",
        "\n",
        "    def set_modelo(self, modelo):\n",
        "        self.modelo = modelo\n",
        "\n",
        "    # ANO\n",
        "    def get_ano(self):\n",
        "        return str(self.ano)\n",
        "\n",
        "    def set_ano(self, ano):\n",
        "        self.ano = ano\n",
        "\n",
        "    # PRECO\n",
        "    def get_preco(self):\n",
        "        return str(self.preco)\n",
        "\n",
        "    def set_preco(self, preco):\n",
        "        self.preco = preco\n",
        "\n",
        "\n",
        "    def imprimir_carro(self):\n",
        "        print(f\"Cor:{self.cor}\")\n",
        "        print(f\"Modelo:{self.modelo}\")\n",
        "        print(f\"Ano:{self.ano}\")\n",
        "        print(f\"Preco:{self.preco}\")\n",
        "\n",
        "    @classmethod\n",
        "    def imprimir_total(cls):\n",
        "        print(f\"Total:{cls.total_carro}\")"
      ]
    },
    {
      "cell_type": "code",
      "source": [
        "c1 = Carro()\n",
        "c2 = Carro(modelo = 'For-K', ano=2002)"
      ],
      "metadata": {
        "id": "h2AccfTp_8YQ"
      },
      "execution_count": null,
      "outputs": []
    },
    {
      "cell_type": "code",
      "source": [
        "c1.imprimir_carro()"
      ],
      "metadata": {
        "colab": {
          "base_uri": "https://localhost:8080/"
        },
        "id": "3qxxq9gXAT0x",
        "outputId": "4a27074c-7873-4f25-edae-b53b03b64a6f"
      },
      "execution_count": null,
      "outputs": [
        {
          "output_type": "stream",
          "name": "stdout",
          "text": [
            "Cor:None\n",
            "Modelo:None\n",
            "Ano:None\n",
            "Preco:None\n"
          ]
        }
      ]
    },
    {
      "cell_type": "code",
      "source": [
        "c2.imprimir_carro()"
      ],
      "metadata": {
        "colab": {
          "base_uri": "https://localhost:8080/"
        },
        "id": "GcdBlltDAdr6",
        "outputId": "b672a369-eef4-4e55-8399-39c08ca72a96"
      },
      "execution_count": null,
      "outputs": [
        {
          "output_type": "stream",
          "name": "stdout",
          "text": [
            "Cor:None\n",
            "Modelo:For-K\n",
            "Ano:2002\n",
            "Preco:None\n"
          ]
        }
      ]
    }
  ]
}